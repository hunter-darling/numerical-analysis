{
 "cells": [
  {
   "cell_type": "code",
   "execution_count": 1,
   "metadata": {},
   "outputs": [],
   "source": [
    "#2020-02-26 @author: Hunter Darling"
   ]
  },
  {
   "cell_type": "markdown",
   "metadata": {},
   "source": [
    "# MTH 452 Homework 5 pt 1"
   ]
  },
  {
   "cell_type": "markdown",
   "metadata": {},
   "source": [
    "## Exercise 8.1.3"
   ]
  },
  {
   "cell_type": "markdown",
   "metadata": {},
   "source": [
    "$ x_i: 1.0,   1.1,   1.3,   1.5,   1.9,   2.1  $\n",
    "\n",
    "$ y_i: 1.84,  1.96,  2.21,  2.45,  2.94,  3.18 $"
   ]
  },
  {
   "cell_type": "markdown",
   "metadata": {},
   "source": [
    "<font color=green> Find the least squares polynomials of degree 1, 2, and 3 for the data. Compute the error E in each case. Graph the data and the polynomials. "
   ]
  },
  {
   "cell_type": "markdown",
   "metadata": {},
   "source": [
    "#### <font color = blue> Case 1: polynomial of degree 1, $ P_1(x)=a+bx $ ... (1)"
   ]
  },
  {
   "cell_type": "code",
   "execution_count": 2,
   "metadata": {},
   "outputs": [],
   "source": [
    "import numpy as np\n",
    "import matplotlib.pyplot as plt\n",
    "import sympy as sp\n",
    "sp.init_printing()"
   ]
  },
  {
   "cell_type": "markdown",
   "metadata": {},
   "source": [
    "$\\sum y = na + b\\sum x$ ... (2)\n",
    "\n",
    "$\\sum xy = a\\sum x + b\\sum x^2$ ... (3)"
   ]
  },
  {
   "cell_type": "code",
   "execution_count": 3,
   "metadata": {},
   "outputs": [],
   "source": [
    "n=6\n",
    "a = np.array([[1.0, 1.84], [1.1, 1.96], [1.3, 2.21], [1.5, 2.45], [1.9, 2.94], [2.1, 3.18]])\n",
    "x_i = [i[0] for i in a]\n",
    "y_i = [i[1] for i in a]\n",
    "sum_x = sum([i for i in x_i])\n",
    "sum_y = sum([i for i in y_i])\n",
    "sum_xy = sum(i[0]*i[1] for i in a)\n",
    "sum_x2 = sum([i[0]**2 for i in a])"
   ]
  },
  {
   "cell_type": "code",
   "execution_count": 4,
   "metadata": {},
   "outputs": [
    {
     "data": {
      "image/png": "[encoded data removed]",
      "text/latex": [
       "$\\displaystyle \\left( 8.9, \\  14.58, \\  22.808, \\  14.17\\right)$"
      ],
      "text/plain": [
       "(8.9, 14.58, 22.808, 14.17)"
      ]
     },
     "execution_count": 4,
     "metadata": {},
     "output_type": "execute_result"
    }
   ],
   "source": [
    "sum_x, sum_y, sum_xy, sum_x2"
   ]
  },
  {
   "cell_type": "markdown",
   "metadata": {},
   "source": [
    "Substitute calculated values into (2) and (3)... $(n=6)$\n",
    "\n",
    "$14.58 = 6a + 8.9b$ ... (4)\n",
    "\n",
    "$22.808 = 8.9a + 14.17b$ ... (5)\n",
    "\n",
    "Solve augment matrix ... "
   ]
  },
  {
   "cell_type": "code",
   "execution_count": 5,
   "metadata": {},
   "outputs": [
    {
     "data": {
      "text/plain": [
       "array([0.62089501, 1.21962134])"
      ]
     },
     "execution_count": 5,
     "metadata": {},
     "output_type": "execute_result"
    }
   ],
   "source": [
    "A_1 = np.array([[n, sum_x], \n",
    "                [sum_x, sum_x2]])\n",
    "b_1 = np.array([sum_y, sum_xy])\n",
    "x_1 = np.linalg.solve(A_1, b_1)\n",
    "x_1"
   ]
  },
  {
   "cell_type": "markdown",
   "metadata": {},
   "source": [
    "Substitute into (1)...\n",
    "\n",
    "1st degree least squares polynomial approximation:\n",
    "\n",
    "#### $P_1 = 0.62089501 + 1.21962134 x $"
   ]
  },
  {
   "cell_type": "code",
   "execution_count": 6,
   "metadata": {},
   "outputs": [
    {
     "data": {
      "image/png": "[encoded data removed]",
      "text/plain": [
       "<Figure size 432x288 with 1 Axes>"
      ]
     },
     "metadata": {
      "needs_background": "light"
     },
     "output_type": "display_data"
    }
   ],
   "source": [
    "x_1p = np.linspace(0,3,100)\n",
    "p_1 = 0.62089501+1.21962134*x_1p\n",
    "plt.plot(x_1p,p_1, '-r', label='p=0.62089501+1.21962134(x)')\n",
    "plt.scatter(x_i,y_i)\n",
    "plt.title('Graph of 1st degree poly. approx.')\n",
    "plt.xlabel('x', color='#1C2833')\n",
    "plt.ylabel('y', color='#1C2833')\n",
    "plt.legend(loc='upper left')\n",
    "plt.grid()\n",
    "plt.show()"
   ]
  },
  {
   "cell_type": "markdown",
   "metadata": {},
   "source": [
    "Total error: $E_1 = \\sum_i^6 (y_i - P_1(x_i))^2$\n",
    "\n",
    "where $P_1(x_i)$ is the approximation at each $x_i$ using $P_1=0.62089501+1.21962134x$"
   ]
  },
  {
   "cell_type": "code",
   "execution_count": 7,
   "metadata": {},
   "outputs": [
    {
     "name": "stdout",
     "output_type": "stream",
     "text": [
      "Total Error =  2.7194492254768442e-05\n"
     ]
    }
   ],
   "source": [
    "p_i_1 = [(0.62089501+1.21962134*x) for x in x_i]\n",
    "E_1 = 0\n",
    "for i in range(0, n):\n",
    "    E_1 += ((y_i[i] - p_i_1[i])*(y_i[i] - p_i_1[i]))\n",
    "print('Total Error = ',E_1)"
   ]
  },
  {
   "cell_type": "markdown",
   "metadata": {},
   "source": [
    "#### <font color=blue> Case 2: polynomial of degree 2, $ P_2(x)=a+bx+cx^2 $ ... (6)"
   ]
  },
  {
   "cell_type": "markdown",
   "metadata": {},
   "source": [
    "$\\sum y = na + b\\sum x + c\\sum x^2$ ... (7)\n",
    "\n",
    "$\\sum xy = a\\sum x + b\\sum x^2 + c\\sum x^3$ ... (8)\n",
    "\n",
    "$\\sum x^2y = a\\sum x^2 + b\\sum x^3 + c\\sum x^4$ ... (9)"
   ]
  },
  {
   "cell_type": "code",
   "execution_count": 8,
   "metadata": {},
   "outputs": [],
   "source": [
    "sum_x3 = sum([i**3 for i in x_i])\n",
    "sum_x2y = sum([(i[0]**2)*i[1] for i in a])\n",
    "sum_x4 = sum([i**4 for i in x_i])"
   ]
  },
  {
   "cell_type": "code",
   "execution_count": 9,
   "metadata": {},
   "outputs": [
    {
     "data": {
      "image/png": "[encoded data removed]",
      "text/latex": [
       "$\\displaystyle \\left( 8.9, \\  14.58, \\  22.808, \\  14.17, \\  24.023000000000003, \\  38.096199999999996, \\  42.8629\\right)$"
      ],
      "text/plain": [
       "(8.9, 14.58, 22.808, 14.17, 24.023000000000003, 38.096199999999996, 42.8629)"
      ]
     },
     "execution_count": 9,
     "metadata": {},
     "output_type": "execute_result"
    }
   ],
   "source": [
    "sum_x, sum_y, sum_xy, sum_x2, sum_x3, sum_x2y, sum_x4"
   ]
  },
  {
   "cell_type": "markdown",
   "metadata": {},
   "source": [
    "Substitute calculated values into (7), (8), and (9)... $(n=6)$\n",
    "\n",
    "$14.58 = 6a + 8.9b + 14.17c$ ... (10)\n",
    "\n",
    "$22.808 = 8.9a + 14.17b + 24.023c$ ... (11)\n",
    "\n",
    "$38.096 = 14.17a + 24.023b + 42.863c$ ... (12)\n",
    "\n",
    "Solve..."
   ]
  },
  {
   "cell_type": "code",
   "execution_count": 10,
   "metadata": {},
   "outputs": [
    {
     "data": {
      "text/plain": [
       "array([ 0.59658071,  1.25329314, -0.01085343])"
      ]
     },
     "execution_count": 10,
     "metadata": {},
     "output_type": "execute_result"
    }
   ],
   "source": [
    "A_2 = np.array([[n, sum_x, sum_x2], \n",
    "                [sum_x, sum_x2, sum_x3], \n",
    "                [sum_x2, sum_x3, sum_x4]])\n",
    "b_2 = np.array([sum_y, sum_xy, sum_x2y])\n",
    "x_2 = np.linalg.solve(A_2, b_2)\n",
    "x_2"
   ]
  },
  {
   "cell_type": "markdown",
   "metadata": {},
   "source": [
    "Substitute into (6)...\n",
    "\n",
    "2nd degree least squares polynomial approximation:\n",
    "\n",
    "#### $P_2 = 0.59658071 + 1.25329314 x - 0.01085343 x^2 $"
   ]
  },
  {
   "cell_type": "code",
   "execution_count": 11,
   "metadata": {},
   "outputs": [
    {
     "data": {
      "image/png": "[encoded data removed]",
      "text/plain": [
       "<Figure size 432x288 with 1 Axes>"
      ]
     },
     "metadata": {
      "needs_background": "light"
     },
     "output_type": "display_data"
    }
   ],
   "source": [
    "x_2p = np.linspace(0,3,100)\n",
    "p_2 = 0.59658071 + 1.25329314*x_2p - 0.01085343*(x_2p**2)\n",
    "plt.plot(x_2p,p_2, '-r', label='p=0.59658071 + 1.25329314(x) - 0.01085343(x^2)')\n",
    "plt.scatter(x_i,y_i)\n",
    "plt.title('Graph of 2nd degree poly. approx.')\n",
    "plt.xlabel('x', color='#1C2833')\n",
    "plt.ylabel('y', color='#1C2833')\n",
    "plt.legend(loc='upper left')\n",
    "plt.grid()\n",
    "plt.show()"
   ]
  },
  {
   "cell_type": "markdown",
   "metadata": {},
   "source": [
    "Total error: $E_2 = \\sum_i^6 (y_i - P_2(x_i))^2$\n",
    "\n",
    "where $P_2(x_i)$ is the approximation at each $x_i$ using $P_2 = 0.59658071 + 1.25329314 x - 0.01085343 x^2$"
   ]
  },
  {
   "cell_type": "code",
   "execution_count": 12,
   "metadata": {},
   "outputs": [
    {
     "name": "stdout",
     "output_type": "stream",
     "text": [
      "Total Error =  1.8014842302454737e-05\n"
     ]
    }
   ],
   "source": [
    "p_i_2 = [(0.59658071 + 1.25329314*x - 0.01085343*(x**2)) for x in x_i]\n",
    "E_2 = 0\n",
    "for i in range(0, n):\n",
    "    E_2 += ((y_i[i] - p_i_2[i])*(y_i[i] - p_i_2[i]))\n",
    "print('Total Error = ',E_2)"
   ]
  },
  {
   "cell_type": "markdown",
   "metadata": {},
   "source": [
    "#### <font color=blue> Case 3: polynomial of degree 3, $ P_3(x)=a+bx+cx^2+dx^3 $ ... (13)"
   ]
  },
  {
   "cell_type": "markdown",
   "metadata": {},
   "source": [
    "$\\sum y = na + b\\sum x + c\\sum x^2 + d\\sum x^3$ ... (14)\n",
    "\n",
    "$\\sum xy = a\\sum x + b\\sum x^2 + c\\sum x^3 + d\\sum x^4$ ... (15)\n",
    "\n",
    "$\\sum x^2y = a\\sum x^2 + b\\sum x^3 + c\\sum x^4 + d\\sum x^5$ ... (16)\n",
    "\n",
    "$\\sum x^3y = a\\sum x^3 + b\\sum x^4 + c\\sum x^5 + d\\sum x^6$ ... (17)"
   ]
  },
  {
   "cell_type": "code",
   "execution_count": 13,
   "metadata": {},
   "outputs": [],
   "source": [
    "sum_x5 = sum([i**5 for i in x_i])\n",
    "sum_x3y = sum([(i[0]**3)*i[1] for i in a])\n",
    "sum_x6 = sum([i**6 for i in x_i])"
   ]
  },
  {
   "cell_type": "code",
   "execution_count": 14,
   "metadata": {},
   "outputs": [
    {
     "data": {
      "image/png": "[encoded data removed]",
      "text/latex": [
       "$\\displaystyle \\left( 8.9, \\  14.58, \\  22.808, \\  14.17, \\  24.023000000000003, \\  38.096199999999996, \\  42.8629, \\  79.51919000000001, \\  67.18832, \\  151.80099700000002\\right)$"
      ],
      "text/plain": [
       "(8.9, 14.58, 22.808, 14.17, 24.023000000000003, 38.096199999999996, 42.8629, 7\n",
       "9.51919000000001, 67.18832, 151.80099700000002)"
      ]
     },
     "execution_count": 14,
     "metadata": {},
     "output_type": "execute_result"
    }
   ],
   "source": [
    "sum_x, sum_y, sum_xy, sum_x2, sum_x3, sum_x2y, sum_x4, sum_x5, sum_x3y, sum_x6"
   ]
  },
  {
   "cell_type": "markdown",
   "metadata": {},
   "source": [
    "Substitute and solve aug matrix..."
   ]
  },
  {
   "cell_type": "code",
   "execution_count": 15,
   "metadata": {},
   "outputs": [
    {
     "data": {
      "text/plain": [
       "array([ 0.62901928,  1.1850098 ,  0.03533252, -0.01004723])"
      ]
     },
     "execution_count": 15,
     "metadata": {},
     "output_type": "execute_result"
    }
   ],
   "source": [
    "A_3 = np.array([[n, sum_x, sum_x2, sum_x3], \n",
    "                [sum_x, sum_x2, sum_x3, sum_x4], \n",
    "                [sum_x2, sum_x3, sum_x4, sum_x5],\n",
    "                [sum_x3, sum_x4, sum_x5, sum_x6]])\n",
    "b_3 = np.array([sum_y, sum_xy, sum_x2y, sum_x3y])\n",
    "x_3 = np.linalg.solve(A_3, b_3)\n",
    "x_3"
   ]
  },
  {
   "cell_type": "markdown",
   "metadata": {},
   "source": [
    "Substitute into (13)...\n",
    "\n",
    "3rd degree least squares polynomial approximation:\n",
    "\n",
    "#### $P_3 = 0.62901928 + 1.1850098 x + 0.03533252 x^2 - 0.01004723 x^3 $"
   ]
  },
  {
   "cell_type": "code",
   "execution_count": 16,
   "metadata": {},
   "outputs": [
    {
     "data": {
      "image/png": "[encoded data removed]",
      "text/plain": [
       "<Figure size 432x288 with 1 Axes>"
      ]
     },
     "metadata": {
      "needs_background": "light"
     },
     "output_type": "display_data"
    }
   ],
   "source": [
    "x_3p = np.linspace(0,3,100)\n",
    "p_3 = 0.62901928 + 1.1850098*x_3p + 0.03533252*(x_3p**2) - 0.01004723*(x_3p**3)\n",
    "plt.plot(x_3p,p_3, '-r', label='p=0.62901928 + 1.1850098(x) + 0.03533252(x^2) - 0.01004723(x^3)')\n",
    "plt.scatter(x_i,y_i)\n",
    "plt.title('Graph of 3rd degree poly. approx.')\n",
    "plt.xlabel('x', color='#1C2833')\n",
    "plt.ylabel('y', color='#1C2833')\n",
    "plt.legend(loc='upper left')\n",
    "plt.grid()\n",
    "plt.show()"
   ]
  },
  {
   "cell_type": "markdown",
   "metadata": {},
   "source": [
    "Total error: $E_3 = \\sum_i^6 (y_i - P_3(x_i))^2$\n",
    "\n",
    "where $P_3(x_i)$ is the approximation at each $x_i$ using $P_3 = 0.62901928 + 1.1850098 x + 0.03533252 x^2 - 0.01004723 x^3$"
   ]
  },
  {
   "cell_type": "code",
   "execution_count": 17,
   "metadata": {},
   "outputs": [
    {
     "name": "stdout",
     "output_type": "stream",
     "text": [
      "Total Error =  1.7407310954369473e-05\n"
     ]
    }
   ],
   "source": [
    "p_i_3 = [(0.62901928 + 1.1850098*x + 0.03533252*(x**2) - 0.01004723*(x**3)) for x in x_i]\n",
    "E_3 = 0\n",
    "for i in range(0, n):\n",
    "    E_3 += ((y_i[i] - p_i_3[i])*(y_i[i] - p_i_3[i]))\n",
    "print('Total Error = ',E_3)"
   ]
  }
 ],
 "metadata": {
  "kernelspec": {
   "display_name": "Python 3",
   "language": "python",
   "name": "python3"
  },
  "language_info": {
   "codemirror_mode": {
    "name": "ipython",
    "version": 3
   },
   "file_extension": ".py",
   "mimetype": "text/x-python",
   "name": "python",
   "nbconvert_exporter": "python",
   "pygments_lexer": "ipython3",
   "version": "3.7.6"
  }
 },
 "nbformat": 4,
 "nbformat_minor": 4
}
