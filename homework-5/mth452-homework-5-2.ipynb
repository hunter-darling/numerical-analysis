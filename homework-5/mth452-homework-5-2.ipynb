{
 "cells": [
  {
   "cell_type": "code",
   "execution_count": 1,
   "metadata": {},
   "outputs": [],
   "source": [
    "#2020-02-26 @author: Hunter Darling"
   ]
  },
  {
   "cell_type": "markdown",
   "metadata": {},
   "source": [
    "# MTH 452 Homework 5 pt 2"
   ]
  },
  {
   "cell_type": "markdown",
   "metadata": {},
   "source": [
    "## Exercise 8.2.1 (b)"
   ]
  },
  {
   "cell_type": "markdown",
   "metadata": {},
   "source": [
    "<font color=green> Find the linear least squares polynomial approximation of $ f(x) $ on the given interval. </font>\n",
    "\n",
    "$f(x) = x^3$,  $[0,2]$\n",
    "\n",
    "Let x take values 0, 0.5, 1.0, 1.5, 2.0.\n",
    "\n",
    "$ x_i: 0.0, 0.25, 0.5, 0.75, 1.0, 1.25, 1.5, 1.75, 2.0  $\n",
    "\n",
    "$ y_i: 0.0,  0.015625, 0.125, 0.421875, 1.0, 1.953125, 3.375, 5.359375, 8.0 $\n",
    "\n",
    "$P_1(x) = a + bx$ ... (1)\n",
    "\n",
    "$\\sum y = na + b\\sum x$ ... (2)\n",
    "\n",
    "$\\sum xy = a\\sum x + b\\sum x^2$ ... (3)"
   ]
  },
  {
   "cell_type": "code",
   "execution_count": 2,
   "metadata": {},
   "outputs": [],
   "source": [
    "import numpy as np\n",
    "import matplotlib.pyplot as plt\n",
    "import sympy as sp\n",
    "sp.init_printing()"
   ]
  },
  {
   "cell_type": "code",
   "execution_count": 3,
   "metadata": {},
   "outputs": [],
   "source": [
    "n=9\n",
    "a = np.array([[0.0, 0.0], \n",
    "              [.25, 0.015625], \n",
    "              [0.5, 0.125], \n",
    "              [0.75, 0.421875], \n",
    "              [1.0, 1.0], \n",
    "              [1.25, 1.953125],\n",
    "              [1.5, 3.375],\n",
    "              [1.75, 5.359375],\n",
    "              [2.0, 8.0]])\n",
    "x_i = [i[0] for i in a]\n",
    "y_i = [i[1] for i in a]\n",
    "sum_x = sum([i for i in x_i])\n",
    "sum_y = sum([i for i in y_i])\n",
    "sum_xy = sum(i[0]*i[1] for i in a)\n",
    "sum_x2 = sum([i[0]**2 for i in a])"
   ]
  },
  {
   "cell_type": "code",
   "execution_count": 4,
   "metadata": {},
   "outputs": [
    {
     "data": {
      "image/png": "[encoded data removed]",
      "text/latex": [
       "$\\displaystyle \\left( 9.0, \\  20.25, \\  34.265625, \\  12.75\\right)$"
      ],
      "text/plain": [
       "(9.0, 20.25, 34.265625, 12.75)"
      ]
     },
     "execution_count": 4,
     "metadata": {},
     "output_type": "execute_result"
    }
   ],
   "source": [
    "sum_x, sum_y, sum_xy, sum_x2"
   ]
  },
  {
   "cell_type": "code",
   "execution_count": 5,
   "metadata": {},
   "outputs": [
    {
     "data": {
      "text/plain": [
       "array([-1.4875,  3.7375])"
      ]
     },
     "execution_count": 5,
     "metadata": {},
     "output_type": "execute_result"
    }
   ],
   "source": [
    "A_1 = np.array([[n, sum_x], \n",
    "                [sum_x, sum_x2]])\n",
    "b_1 = np.array([sum_y, sum_xy])\n",
    "x_1 = np.linalg.solve(A_1, b_1)\n",
    "x_1"
   ]
  },
  {
   "cell_type": "markdown",
   "metadata": {},
   "source": [
    "Substitute into (1)...\n",
    "\n",
    "Linear least squares polynomial approximation:\n",
    "\n",
    "#### $P_1 = -1.4875 + 3.7375 x $"
   ]
  }
 ],
 "metadata": {
  "kernelspec": {
   "display_name": "Python 3",
   "language": "python",
   "name": "python3"
  },
  "language_info": {
   "codemirror_mode": {
    "name": "ipython",
    "version": 3
   },
   "file_extension": ".py",
   "mimetype": "text/x-python",
   "name": "python",
   "nbconvert_exporter": "python",
   "pygments_lexer": "ipython3",
   "version": "3.7.4"
  }
 },
 "nbformat": 4,
 "nbformat_minor": 4
}
