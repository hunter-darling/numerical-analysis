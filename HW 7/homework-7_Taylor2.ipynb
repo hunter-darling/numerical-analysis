{
 "cells": [
  {
   "cell_type": "code",
   "execution_count": null,
   "metadata": {},
   "outputs": [],
   "source": [
    "#2020-04-01 @author: Hunter Darling"
   ]
  },
  {
   "cell_type": "code",
   "execution_count": 51,
   "metadata": {},
   "outputs": [],
   "source": [
    "# Homework 7\n",
    "import math"
   ]
  },
  {
   "cell_type": "code",
   "execution_count": 52,
   "metadata": {},
   "outputs": [
    {
     "name": "stdout",
     "output_type": "stream",
     "text": [
      "Approximate solution at t =  0  is  2.023239\n",
      "Approximate solution at t =  0.5  is  2.023239\n",
      "Approximate solution at t =  1.0  is  2.023239\n"
     ]
    }
   ],
   "source": [
    "# Use Taylor method of order two to approximate the solutions for each of the IVPs\n",
    "# Exercise 5.3.1(a)\n",
    "\n",
    "def func1(t,y):\n",
    "    return (t*(math.exp(3*t))-2*y)\n",
    "def func2(t,y):\n",
    "    return ((3*t*(math.exp(3*t))+math.exp(3*t))-2*(t*(math.exp(3*t))-2*y))\n",
    "\n",
    "\n",
    "# Initial Values, step size\n",
    "t10 = 0\n",
    "y10 = 0\n",
    "h1 = 0.5\n",
    "\n",
    "# Value of t at which we need approximation\n",
    "t1f = 1\n",
    "\n",
    "temp1=-0\n",
    "\n",
    "while t10 <= t1f:\n",
    "    temp1 = y10\n",
    "    y10 = y10 + h1 * func1(t10, y10) + ((h1**2)/2)*func2(t10, y10)\n",
    "    print(\"Approximate solution at t = \", t10, \" is \", \"%.6f\" % temp)\n",
    "    t10 = t10 + h1"
   ]
  },
  {
   "cell_type": "code",
   "execution_count": 50,
   "metadata": {},
   "outputs": [
    {
     "name": "stdout",
     "output_type": "stream",
     "text": [
      "Approximate solution at t =  2  is  2.000000\n",
      "Approximate solution at t =  2.25  is  2.243718\n",
      "Approximate solution at t =  2.5  is  2.563405\n",
      "Approximate solution at t =  2.75  is  2.963390\n",
      "Approximate solution at t =  3.0  is  3.448699\n"
     ]
    }
   ],
   "source": [
    "# Exercise 5.3.2(c)\n",
    "\n",
    "def func3(t,y):\n",
    "    return (t*y**(.5)-y)\n",
    "def func4(t,y):\n",
    "    return ((t**2)/2 + y + (1-((3*t)/2))*(y**(.5)))\n",
    "\n",
    "\n",
    "# Initial Values, step size\n",
    "t20 = 2\n",
    "y20 = 2\n",
    "h2 = 0.25\n",
    "\n",
    "# Value of t at which we need approximation\n",
    "t2f = 3\n",
    "\n",
    "temp2=-0\n",
    "\n",
    "while t20 <= t2f:\n",
    "    temp2 = y20\n",
    "    y20 = y20 + h2 * func3(t20, y20) + ((h2**2)/2)*func4(t20, y20)\n",
    "    print(\"Approximate solution at t = \", t20, \" is \", \"%.6f\" % temp2)\n",
    "    t20 = t20 + h2"
   ]
  }
 ],
 "metadata": {
  "kernelspec": {
   "display_name": "Python 3",
   "language": "python",
   "name": "python3"
  },
  "language_info": {
   "codemirror_mode": {
    "name": "ipython",
    "version": 3
   },
   "file_extension": ".py",
   "mimetype": "text/x-python",
   "name": "python",
   "nbconvert_exporter": "python",
   "pygments_lexer": "ipython3",
   "version": "3.7.6"
  }
 },
 "nbformat": 4,
 "nbformat_minor": 4
}
