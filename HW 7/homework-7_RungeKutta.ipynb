{
 "cells": [
  {
   "cell_type": "code",
   "execution_count": null,
   "metadata": {},
   "outputs": [],
   "source": [
    "#2020-04-01 @author: Hunter Darling"
   ]
  },
  {
   "cell_type": "code",
   "execution_count": 2,
   "metadata": {},
   "outputs": [],
   "source": [
    "# Homework 7\n",
    "import math"
   ]
  },
  {
   "cell_type": "code",
   "execution_count": 11,
   "metadata": {},
   "outputs": [
    {
     "name": "stdout",
     "output_type": "stream",
     "text": [
      "Approximate solution at t =  0.2  is u1 =  2.057800  u2 =  1.444724\n",
      "Actual solution at t =  0.2  is u1 =  2.125008  u2 =  1.511587\n",
      "Error for u1:  0.06720813027506711\n",
      "Error for u2:  0.06686301911370585\n",
      "Approximate solution at t =  0.4  is u1 =  4.129177  u2 =  2.918753\n",
      "Actual solution at t =  0.4  is u1 =  4.465120  u2 =  3.265985\n",
      "Error for u1:  0.3359431021311998\n",
      "Error for u2:  0.34723198277217415\n",
      "Approximate solution at t =  0.6000000000000001  is u1 =  8.547924  u2 =  6.922616\n",
      "Actual solution at t =  0.6000000000000001  is u1 =  9.832359  u2 =  8.256295\n",
      "Error for u1:  1.284434849706864\n",
      "Error for u2:  1.3336791800223464\n",
      "Approximate solution at t =  0.8  is u1 =  18.591505  u2 =  17.117715\n",
      "Actual solution at t =  0.8  is u1 =  23.002639  u2 =  21.668877\n",
      "Error for u1:  4.411134567933949\n",
      "Error for u2:  4.551162056782751\n",
      "Approximate solution at t =  1.0  is u1 =  42.448543  u2 =  42.484933\n",
      "Actual solution at t =  1.0  is u1 =  56.737483  u2 =  57.105362\n",
      "Error for u1:  14.28894004005511\n",
      "Error for u2:  14.620429475189077\n"
     ]
    }
   ],
   "source": [
    "# Use the Runge-Kutta method for systems to approximate the solutions of the following systems of\n",
    "#  first order differential equations and compare the results to the actual solutions.\n",
    "# Exercise 5.9.1(a)\n",
    "\n",
    "# u1p = 3*u1 + 2*u2 - (2*(t**2) + 1)*math.exp(2*t)\n",
    "# u2p = 4*u1 + u2 + (t**2 + 2*t -4)*math.exp(2*t)\n",
    "\n",
    "# actuals:\n",
    "#  u1 = (1/3)*math.exp(5*t) - (1/3)*math.exp(-t) + math.exp(2*t)\n",
    "#  u2 = (1/3)*math.exp(5*t) + (2/3)*math.exp(-t) + (t**2)*math.exp(2*t)\n",
    "\n",
    "x = 1. # x = u1(0)\n",
    "y = 1. # y = u2(0)\n",
    "t = 0.\n",
    "h = 0.2\n",
    "tf = 1.\n",
    "\n",
    "while (t < tf):\n",
    "    m1 = 3.*x + 2.*y - (2.*(t**2.) + 1.)*math.exp(2.*t)\n",
    "    k1 = 4.*x + y + (t**2. + 2.*t - 4.)*math.exp(2.*t)\n",
    "    \n",
    "    ft2 = t + (h/2.)\n",
    "    fx2 = x + (h/2.)*m1\n",
    "    fy2 = y + (h/2.)*k1\n",
    "    m2 = 3.*fx2 + 2.*fy2 - (2.*(ft2**2.) + 1.)*math.exp(2.*ft2)\n",
    "    \n",
    "    gt2 = t + (h/2.)\n",
    "    gx2 = x + (h/2.)*m1\n",
    "    gy2 = y + (h/2.)*k1\n",
    "    k2 = 4.*gx2 + gy2 + (gt2**2. + 2.*gt2 - 4.)*math.exp(2.*gt2)\n",
    "    \n",
    "    ft3 = t + (h/2.)\n",
    "    fx3 = x + (h/2.)*m2\n",
    "    fy3 = y + (h/2.)*k2\n",
    "    m3 = 3.*fx3 + 2.*fy3 - (2.*(ft3**2.) + 1.)*math.exp(2.*ft3)\n",
    "    \n",
    "    gt3 = t + (h/2.)\n",
    "    gx3 = x + (h/2.)*m2\n",
    "    gy3 = y + (h/2.)*k2\n",
    "    k3 = 4.*gx3 + gy3 + (gt3**2. + 2.*gt3 - 4.)*math.exp(2.*gt3)\n",
    "    \n",
    "    ft4 = t + (h/2)\n",
    "    fx4 = x + (h/2)*m3\n",
    "    fy4 = y + (h/2)*k3\n",
    "    m4 = 3.*fx4 + 2.*fy4 - (2.*(ft4**2.) + 1.)*math.exp(2*ft4)\n",
    "    \n",
    "    gt4 = t + (h/2.)\n",
    "    gx4 = x + (h/2.)*m3\n",
    "    gy4 = y + (h/2.)*k3\n",
    "    k4 = 4.*gx4 + gy4 + (gt4**2. + 2.*gt4 - 4.)*math.exp(2.*gt4)\n",
    "    \n",
    "    t = t + h\n",
    "    \n",
    "    x = x + (h/6.) * (m1 + 2.*m2 + 2.*m3 + m4)\n",
    "    y = y + (h/6.) * (k1 + 2.*k2 + 2.*k3 + k4)\n",
    "    \n",
    "    u1 = (1/3)*math.exp(5*t) - (1/3)*math.exp(-t) + math.exp(2*t)\n",
    "    u2 = (1/3)*math.exp(5*t) + (2/3)*math.exp(-t) + (t**2)*math.exp(2*t)\n",
    "    \n",
    "    print(\"Approximate solution at t = \", t, \" is u1 = \", \"%.6f\" % x, \" u2 = \",  \"%.6f\" % y)\n",
    "    print(\"Actual solution at t = \", t, \" is u1 = \", \"%.6f\" % u1, \" u2 = \",  \"%.6f\" % u2)\n",
    "    print(\"Error for u1: \", abs(x - u1))\n",
    "    print(\"Error for u2: \", abs(y - u2))"
   ]
  },
  {
   "cell_type": "code",
   "execution_count": null,
   "metadata": {},
   "outputs": [],
   "source": []
  }
 ],
 "metadata": {
  "kernelspec": {
   "display_name": "Python 3",
   "language": "python",
   "name": "python3"
  },
  "language_info": {
   "codemirror_mode": {
    "name": "ipython",
    "version": 3
   },
   "file_extension": ".py",
   "mimetype": "text/x-python",
   "name": "python",
   "nbconvert_exporter": "python",
   "pygments_lexer": "ipython3",
   "version": "3.7.6"
  }
 },
 "nbformat": 4,
 "nbformat_minor": 4
}
