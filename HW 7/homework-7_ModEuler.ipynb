{
 "cells": [
  {
   "cell_type": "code",
   "execution_count": null,
   "metadata": {},
   "outputs": [],
   "source": [
    "#2020-04-01 @author: Hunter Darling"
   ]
  },
  {
   "cell_type": "code",
   "execution_count": 1,
   "metadata": {},
   "outputs": [],
   "source": [
    "# Homework 7\n",
    "import math"
   ]
  },
  {
   "cell_type": "code",
   "execution_count": 22,
   "metadata": {},
   "outputs": [
    {
     "name": "stdout",
     "output_type": "stream",
     "text": [
      "Approximate solution at t =  2  is  1.000000\n",
      "Actual solution at t =  2  is  1.000000\n",
      "Error: 0.000000\n",
      "Approximate solution at t =  2.5  is  1.812500\n",
      "Actual solution at t =  2.5  is  1.833333\n",
      "Error: 0.020833\n",
      "Approximate solution at t =  3.0  is  2.481553\n",
      "Actual solution at t =  3.0  is  2.500000\n",
      "Error: 0.018447\n"
     ]
    }
   ],
   "source": [
    "# Use the Modified Euler method to approximate the solutions to eah of the following intial-value problems\n",
    "#   and compare the results to the actual values\n",
    "# Exercise 5.4.1(b)\n",
    "\n",
    "# actual solution y(t) = t + 1/(1-t)\n",
    "\n",
    "def func1(t,y):\n",
    "    return (1 + (t-y)**2)\n",
    "\n",
    "t10 = 2\n",
    "y10 = 1\n",
    "h1 = 0.5\n",
    "t1f = 3\n",
    "\n",
    "while t10 <= t1f:\n",
    "    temp1 = y10\n",
    "    y10 = y10 + h1/2 * ( func1(t10, y10) + func1(t10+h1, y10+(h1*(func1(t10, y10)))) )\n",
    "    print(\"Approximate solution at t = \", t10, \" is \", \"%.6f\" % temp1)\n",
    "    actual1 = t10 + 1/(1-t10)\n",
    "    print(\"Actual solution at t = \", t10, \" is \", \"%.6f\" % actual1)\n",
    "    error1 = abs(temp1-actual1)\n",
    "    print(\"Error: \" \"%.6f\" % error1)\n",
    "    t10 = t10 + h1"
   ]
  },
  {
   "cell_type": "code",
   "execution_count": 25,
   "metadata": {},
   "outputs": [
    {
     "name": "stdout",
     "output_type": "stream",
     "text": [
      "Approximate solution at t =  1  is  2.000000\n",
      "Actual solution at t =  1  is  2.000000\n",
      "Error: 0.000000\n",
      "Approximate solution at t =  1.5  is  2.354167\n",
      "Actual solution at t =  1.5  is  2.354102\n",
      "Error: 0.000065\n",
      "Approximate solution at t =  2.0  is  2.741745\n",
      "Actual solution at t =  2.0  is  2.741657\n",
      "Error: 0.000088\n"
     ]
    }
   ],
   "source": [
    "# Exercise 5.4.2(b)\n",
    "\n",
    "# actual solution y(t) = math.sqrt(t**2 + 2*t +6)-1\n",
    "\n",
    "def func2(t,y):\n",
    "    return (1 + t)/(1 + y)\n",
    "\n",
    "t20 = 1\n",
    "y20 = 2\n",
    "h2 = 0.5\n",
    "t2f = 2\n",
    "\n",
    "while t20 <= t2f:\n",
    "    temp2 = y20\n",
    "    y20 = y20 + h2/2 * ( func2(t20, y20) + func2(t20+h2, y20+(h2*(func2(t20, y20)))) )\n",
    "    print(\"Approximate solution at t = \", t20, \" is \", \"%.6f\" % temp2)\n",
    "    actual2 = math.sqrt(t20**2 + 2*t20 +6)-1\n",
    "    print(\"Actual solution at t = \", t20, \" is \", \"%.6f\" % actual2)\n",
    "    error2 = abs(temp2-actual2)\n",
    "    print(\"Error: \" \"%.6f\" % error2)\n",
    "    t20 = t20 + h2"
   ]
  },
  {
   "cell_type": "code",
   "execution_count": null,
   "metadata": {},
   "outputs": [],
   "source": []
  }
 ],
 "metadata": {
  "kernelspec": {
   "display_name": "Python 3",
   "language": "python",
   "name": "python3"
  },
  "language_info": {
   "codemirror_mode": {
    "name": "ipython",
    "version": 3
   },
   "file_extension": ".py",
   "mimetype": "text/x-python",
   "name": "python",
   "nbconvert_exporter": "python",
   "pygments_lexer": "ipython3",
   "version": "3.7.6"
  }
 },
 "nbformat": 4,
 "nbformat_minor": 4
}
