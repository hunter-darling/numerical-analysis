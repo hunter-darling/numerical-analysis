{
 "cells": [
  {
   "cell_type": "code",
   "execution_count": null,
   "metadata": {},
   "outputs": [],
   "source": [
    "#2020-03-18 @author: Hunter Darling"
   ]
  },
  {
   "cell_type": "markdown",
   "metadata": {},
   "source": [
    "# MTH 452 Homework 6 Euler's Method Questions"
   ]
  },
  {
   "cell_type": "markdown",
   "metadata": {},
   "source": [
    "## Use Euler's method to approximate the solutions for the IVP"
   ]
  },
  {
   "cell_type": "markdown",
   "metadata": {},
   "source": [
    "### Exercise 5.2.1 (b) "
   ]
  },
  {
   "cell_type": "markdown",
   "metadata": {},
   "source": [
    "$y' = 1 + (t-y)^2$\n",
    "\n",
    "$2 <= t <= 3$\n",
    "\n",
    "$y(2) = 1$\n",
    "\n",
    "$h = 0.5$"
   ]
  },
  {
   "cell_type": "code",
   "execution_count": 21,
   "metadata": {},
   "outputs": [],
   "source": [
    "def func1(t, y): \n",
    "    return (1 + (t-y)**2)"
   ]
  },
  {
   "cell_type": "code",
   "execution_count": 60,
   "metadata": {},
   "outputs": [
    {
     "name": "stdout",
     "output_type": "stream",
     "text": [
      "Approximate solution at t =  3.0  is  2.625\n"
     ]
    }
   ],
   "source": [
    "t01 = 2\n",
    "y01 = 1\n",
    "h1 = 0.5\n",
    "tf1 = 3\n",
    "\n",
    "temp1 = -0\n",
    "    \n",
    "while t01 < tf1: \n",
    "    temp1 = y01 \n",
    "    y01 = y01 + h1 * func1(t01, y01) \n",
    "    t01 = t01 + h1 \n",
    " \n",
    "print(\"Approximate solution at t = \", t01, \" is \", \"%.3f\"% y01)"
   ]
  },
  {
   "cell_type": "markdown",
   "metadata": {},
   "source": [
    "#### Approximate solution at t =  3.0  is  2.625"
   ]
  },
  {
   "cell_type": "markdown",
   "metadata": {},
   "source": [
    "### Exercise 5.2.2 (d)"
   ]
  },
  {
   "cell_type": "markdown",
   "metadata": {},
   "source": [
    "$y' = \\frac{1}{t^2}(sin(2t)-2ty)$\n",
    "\n",
    "$1 \\leq t \\leq 2$\n",
    "\n",
    "$y(1) = 2$\n",
    "\n",
    "$h = 0.25$"
   ]
  },
  {
   "cell_type": "code",
   "execution_count": 56,
   "metadata": {},
   "outputs": [],
   "source": [
    "import math\n",
    "def func2(t, y): \n",
    "    return ((1/(t**2))*(math.sin(2*t)-(2*t*y)))"
   ]
  },
  {
   "cell_type": "code",
   "execution_count": 61,
   "metadata": {},
   "outputs": [
    {
     "name": "stdout",
     "output_type": "stream",
     "text": [
      "Approximate solution at t =  2.0  is  0.379\n"
     ]
    }
   ],
   "source": [
    "t02 = 1\n",
    "y02 = 2\n",
    "h2 = 0.25\n",
    "tf2 = 2\n",
    "\n",
    "temp2 = -0\n",
    "    \n",
    "while t02 < tf2: \n",
    "    temp2 = y02 \n",
    "    y02 = y02 + h2 * func2(t02, y02) \n",
    "    t02 = t02 + h2\n",
    " \n",
    "print(\"Approximate solution at t = \", t02, \" is \", \"%.3f\"% y02)"
   ]
  },
  {
   "cell_type": "markdown",
   "metadata": {},
   "source": [
    "#### Approximate solution at t =  2.0  is  0.379"
   ]
  },
  {
   "cell_type": "code",
   "execution_count": null,
   "metadata": {},
   "outputs": [],
   "source": []
  }
 ],
 "metadata": {
  "kernelspec": {
   "display_name": "Python 3",
   "language": "python",
   "name": "python3"
  },
  "language_info": {
   "codemirror_mode": {
    "name": "ipython",
    "version": 3
   },
   "file_extension": ".py",
   "mimetype": "text/x-python",
   "name": "python",
   "nbconvert_exporter": "python",
   "pygments_lexer": "ipython3",
   "version": "3.7.6"
  }
 },
 "nbformat": 4,
 "nbformat_minor": 4
}
